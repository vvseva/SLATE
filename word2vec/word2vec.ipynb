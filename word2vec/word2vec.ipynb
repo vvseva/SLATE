{
 "cells": [
  {
   "cell_type": "markdown",
   "metadata": {},
   "source": [
    "## Word2Vec model"
   ]
  },
  {
   "cell_type": "code",
   "execution_count": 3,
   "metadata": {},
   "outputs": [],
   "source": [
    "import numpy as np # linear algebra\n",
    "import os # accessing directory structure\n",
    "import json\n",
    "import glob"
   ]
  },
  {
   "cell_type": "code",
   "execution_count": 4,
   "metadata": {},
   "outputs": [],
   "source": [
    "#################### Custom functions to find norm of a matrix and perform some cosine distance similarity ############################\n",
    "import numpy as np\n",
    "def find_norm(syn0):\n",
    "    syn0norm = (syn0 / np.sqrt((syn0 ** 2).sum(-1))[..., np.newaxis]).astype(np.float32)\n",
    "    return syn0norm\n",
    "\n",
    "\n",
    "def argsort(x, topn=None, reverse=False):\n",
    "    \"\"\"\n",
    "    Return indices of the `topn` smallest elements in array `x`, in ascending order.\n",
    "    If reverse is True, return the greatest elements instead, in descending order.\n",
    "    \"\"\"\n",
    "    x = np.asarray(x)  # unify code path for when `x` is not a numpy array (list, tuple...)\n",
    "    if topn is None:\n",
    "        topn = x.size\n",
    "    if topn <= 0:\n",
    "        return []\n",
    "    if reverse:\n",
    "        x = -x\n",
    "    if topn >= x.size or not hasattr(np, 'argpartition'):\n",
    "        return np.argsort(x)[:topn]\n",
    "    # numpy >= 1.8 has a fast partial argsort, use that!\n",
    "    most_extreme = np.argpartition(x, topn)[:topn]\n",
    "    return most_extreme.take(np.argsort(x.take(most_extreme)))  # resort topn into order\n",
    "\n",
    "def find_similar(des_norm, vec_norm):\n",
    "    dists = np.dot(des_norm, vec_norm)\n",
    "\n",
    "    best = argsort(dists, reverse=True)\n",
    "\n",
    "    dist_sort = np.sort(dists)[::-1]\n",
    "\n",
    "    return dist_sort, best\n",
    "\n",
    "\n",
    "def similar(word, Vocab, idx2Vocab, MAT, topN=20):\n",
    "    if word in Vocab:\n",
    "        index = Vocab[word]\n",
    "        query_vector = MAT[index]\n",
    "        probs, indexes = find_similar(MAT, query_vector)\n",
    "\n",
    "        words = [idx2Vocab[i] for i in indexes[:topN]]\n",
    "        words_probs = dict(zip(words, probs[:topN]))\n",
    "\n",
    "        return sorted(words_probs.items(), key=lambda x: x[1], reverse=True)\n",
    "    else:\n",
    "        return \"OOV\"\n",
    "    \n",
    "    \n",
    "def similar_cross_matrix(query_vector , MAT , idx2Vocab , topN=20):\n",
    "\n",
    "    probs, indexes = find_similar(MAT, query_vector)\n",
    "\n",
    "    words = [idx2Vocab[i] for i in indexes[:topN]]\n",
    "    words_probs = dict(zip(words, probs[:topN]))\n",
    "\n",
    "    return sorted(words_probs.items(), key=lambda x: x[1], reverse=True) "
   ]
  },
  {
   "cell_type": "code",
   "execution_count": 35,
   "metadata": {},
   "outputs": [
    {
     "ename": "AttributeError",
     "evalue": "'str' object has no attribute 'read'",
     "output_type": "error",
     "traceback": [
      "\u001b[1;31m---------------------------------------------------------------------------\u001b[0m",
      "\u001b[1;31mAttributeError\u001b[0m                            Traceback (most recent call last)",
      "\u001b[1;32m<ipython-input-35-3025fd561fa5>\u001b[0m in \u001b[0;36m<module>\u001b[1;34m\u001b[0m\n\u001b[0;32m      5\u001b[0m \u001b[0mvocab_reverse\u001b[0m \u001b[1;33m=\u001b[0m \u001b[1;33m{\u001b[0m\u001b[0mk\u001b[0m\u001b[1;33m:\u001b[0m\u001b[0mv\u001b[0m \u001b[1;32mfor\u001b[0m \u001b[0mv\u001b[0m\u001b[1;33m,\u001b[0m \u001b[0mk\u001b[0m \u001b[1;32min\u001b[0m \u001b[0mvocab\u001b[0m\u001b[1;33m.\u001b[0m\u001b[0mitems\u001b[0m\u001b[1;33m(\u001b[0m\u001b[1;33m)\u001b[0m\u001b[1;33m}\u001b[0m\u001b[1;33m\u001b[0m\u001b[1;33m\u001b[0m\u001b[0m\n\u001b[0;32m      6\u001b[0m \u001b[1;31m#vocab = json.load(\"word2vec_bi_gram.vocab.json\")\u001b[0m\u001b[1;33m\u001b[0m\u001b[1;33m\u001b[0m\u001b[1;33m\u001b[0m\u001b[0m\n\u001b[1;32m----> 7\u001b[1;33m \u001b[0mvocab\u001b[0m \u001b[1;33m=\u001b[0m \u001b[0mjson\u001b[0m\u001b[1;33m.\u001b[0m\u001b[0mload\u001b[0m\u001b[1;33m(\u001b[0m\u001b[1;34m'word2vec_bi_gram.vocab.json'\u001b[0m\u001b[1;33m)\u001b[0m\u001b[1;33m\u001b[0m\u001b[1;33m\u001b[0m\u001b[0m\n\u001b[0m\u001b[0;32m      8\u001b[0m \u001b[1;31m#emebddings = \"OneDrive/Documents/1University/4 Bergen/TEL/SLATE/word2vec.ipynb\"\u001b[0m\u001b[1;33m\u001b[0m\u001b[1;33m\u001b[0m\u001b[1;33m\u001b[0m\u001b[0m\n",
      "\u001b[1;32m~\\Anaconda3\\lib\\json\\__init__.py\u001b[0m in \u001b[0;36mload\u001b[1;34m(fp, cls, object_hook, parse_float, parse_int, parse_constant, object_pairs_hook, **kw)\u001b[0m\n\u001b[0;32m    291\u001b[0m     \u001b[0mkwarg\u001b[0m\u001b[1;33m;\u001b[0m \u001b[0motherwise\u001b[0m\u001b[0;31m \u001b[0m\u001b[0;31m`\u001b[0m\u001b[0;31m`\u001b[0m\u001b[0mJSONDecoder\u001b[0m\u001b[0;31m`\u001b[0m\u001b[0;31m`\u001b[0m \u001b[1;32mis\u001b[0m \u001b[0mused\u001b[0m\u001b[1;33m.\u001b[0m\u001b[1;33m\u001b[0m\u001b[1;33m\u001b[0m\u001b[0m\n\u001b[0;32m    292\u001b[0m     \"\"\"\n\u001b[1;32m--> 293\u001b[1;33m     return loads(fp.read(),\n\u001b[0m\u001b[0;32m    294\u001b[0m         \u001b[0mcls\u001b[0m\u001b[1;33m=\u001b[0m\u001b[0mcls\u001b[0m\u001b[1;33m,\u001b[0m \u001b[0mobject_hook\u001b[0m\u001b[1;33m=\u001b[0m\u001b[0mobject_hook\u001b[0m\u001b[1;33m,\u001b[0m\u001b[1;33m\u001b[0m\u001b[1;33m\u001b[0m\u001b[0m\n\u001b[0;32m    295\u001b[0m         \u001b[0mparse_float\u001b[0m\u001b[1;33m=\u001b[0m\u001b[0mparse_float\u001b[0m\u001b[1;33m,\u001b[0m \u001b[0mparse_int\u001b[0m\u001b[1;33m=\u001b[0m\u001b[0mparse_int\u001b[0m\u001b[1;33m,\u001b[0m\u001b[1;33m\u001b[0m\u001b[1;33m\u001b[0m\u001b[0m\n",
      "\u001b[1;31mAttributeError\u001b[0m: 'str' object has no attribute 'read'"
     ]
    }
   ],
   "source": [
    "import json\n",
    "\n",
    "emebddings = np.load('word2vec_bi_gram.syn0.npy') #### find_norm helps us to normalize embeddings, to simplify cosine distance to np.dot()\n",
    "vocab      = json.load(open('word2vec_bi_gram.vocab.json'))\n",
    "vocab_reverse = {k:v for v, k in vocab.items()}\n",
    "#vocab = json.load(\"word2vec_bi_gram.vocab.json\")\n",
    "#emebddings = \"OneDrive/Documents/1University/4 Bergen/TEL/SLATE/word2vec.ipynb\""
   ]
  },
  {
   "cell_type": "code",
   "execution_count": 32,
   "metadata": {},
   "outputs": [
    {
     "data": {
      "text/plain": [
       "'C:\\\\Users\\\\wirze\\\\OneDrive\\\\Documents\\\\1University\\\\4 Bergen\\\\TEL\\\\SLATE'"
      ]
     },
     "execution_count": 32,
     "metadata": {},
     "output_type": "execute_result"
    }
   ],
   "source": []
  },
  {
   "cell_type": "code",
   "execution_count": 33,
   "metadata": {},
   "outputs": [
    {
     "data": {
      "text/plain": [
       "<_io.TextIOWrapper name='word2vec_bi_gram.vocab.json' mode='r' encoding='cp1252'>"
      ]
     },
     "execution_count": 33,
     "metadata": {},
     "output_type": "execute_result"
    }
   ],
   "source": [
    "#vocab.reverse()\n",
    "#vocab_reverse = json.dumps(vocab)\n",
    "vocab"
   ]
  },
  {
   "cell_type": "code",
   "execution_count": 43,
   "metadata": {},
   "outputs": [
    {
     "data": {
      "text/plain": [
       "[('disorders such', 21.214859),\n",
       " ('sleep apnea', 19.710213),\n",
       " ('anxiety disorder', 19.690964),\n",
       " ('bipolar disorder', 19.16166),\n",
       " ('disorders and', 19.138802),\n",
       " ('depressive disorder', 19.073448),\n",
       " ('anxiety disorders', 18.81599),\n",
       " ('abdominal pain', 18.751617),\n",
       " ('major depressive', 18.65441),\n",
       " ('symptoms such', 18.630896),\n",
       " ('sleep disorders', 18.558748),\n",
       " ('mental disorders', 18.421566),\n",
       " ('disorder or', 18.401009),\n",
       " ('personality disorder', 18.295654),\n",
       " ('nausea and', 18.293915),\n",
       " ('disorders including', 18.285454),\n",
       " ('nausea vomiting', 18.218536),\n",
       " ('deficit hyperactivity', 18.211435),\n",
       " ('syndrome is', 18.172626),\n",
       " ('sleep disorder', 18.161236)]"
      ]
     },
     "execution_count": 43,
     "metadata": {},
     "output_type": "execute_result"
    }
   ],
   "source": [
    "similar(\"sleep disorder\" , vocab , vocab_reverse , emebddings)"
   ]
  }
 ],
 "metadata": {
  "kernelspec": {
   "display_name": "Python 3",
   "language": "python",
   "name": "python3"
  },
  "language_info": {
   "codemirror_mode": {
    "name": "ipython",
    "version": 3
   },
   "file_extension": ".py",
   "mimetype": "text/x-python",
   "name": "python",
   "nbconvert_exporter": "python",
   "pygments_lexer": "ipython3",
   "version": "3.7.4"
  }
 },
 "nbformat": 4,
 "nbformat_minor": 4
}
